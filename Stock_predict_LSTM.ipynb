{
  "nbformat": 4,
  "nbformat_minor": 0,
  "metadata": {
    "colab": {
      "name": "Stock predict LSTM",
      "provenance": [],
      "authorship_tag": "ABX9TyMzSw1tmUhnW/IDoFgGiXUJ",
      "include_colab_link": true
    },
    "kernelspec": {
      "name": "python3",
      "display_name": "Python 3"
    },
    "language_info": {
      "name": "python"
    },
    "accelerator": "GPU"
  },
  "cells": [
    {
      "cell_type": "markdown",
      "metadata": {
        "id": "view-in-github",
        "colab_type": "text"
      },
      "source": [
        "<a href=\"https://colab.research.google.com/github/zanderman/stock-forecasting-transformer/blob/main/Stock_predict_LSTM.ipynb\" target=\"_parent\"><img src=\"https://colab.research.google.com/assets/colab-badge.svg\" alt=\"Open In Colab\"/></a>"
      ]
    },
    {
      "cell_type": "code",
      "execution_count": 2,
      "metadata": {
        "id": "-ud_H6kmKsXF"
      },
      "outputs": [],
      "source": [
        "import os\n",
        "import pandas as pd\n",
        "import numpy as np\n",
        "from sklearn.preprocessing import MinMaxScaler\n",
        "from sklearn.preprocessing import StandardScaler\n",
        "from sklearn.preprocessing import Normalizer\n",
        "from sklearn.metrics import mean_squared_error\n",
        "import joblib\n",
        "import seaborn as sns\n",
        "\n",
        "import matplotlib.pyplot as plt\n",
        "\n",
        "\n",
        "from tensorflow import keras\n",
        "from tensorflow.keras import layers\n",
        "\n",
        "from numpy.random import seed\n",
        "import tensorflow as tf\n",
        "\n",
        "from keras.layers import Input, Dropout, Dense, LSTM, TimeDistributed, RepeatVector\n",
        "from keras.models import Model\n",
        "from keras import regularizers\n",
        "\n",
        "import pywt\n",
        "import math\n",
        "\n",
        "import datetime as dt\n",
        "from datetime import datetime\n",
        "\n",
        "from keras.callbacks import EarlyStopping, ReduceLROnPlateau, ModelCheckpoint, TensorBoard\n",
        "\n",
        "from sklearn.preprocessing import StandardScaler\n",
        "\n",
        "from keras.models import Sequential\n",
        "from keras.layers import Dense\n",
        "from keras.layers import LSTM\n",
        "from keras.layers import Dropout\n",
        "\n",
        "\n",
        "import scipy.io"
      ]
    },
    {
      "cell_type": "code",
      "source": [
        "from google.colab import drive\n",
        "drive.mount('/content/gdrive/')"
      ],
      "metadata": {
        "colab": {
          "base_uri": "https://localhost:8080/"
        },
        "id": "g51jpwI0LNkw",
        "outputId": "063f2387-8c01-4454-8075-4d152f53ae2a"
      },
      "execution_count": 3,
      "outputs": [
        {
          "output_type": "stream",
          "name": "stdout",
          "text": [
            "Mounted at /content/gdrive/\n"
          ]
        }
      ]
    },
    {
      "cell_type": "code",
      "source": [
        "gpu_info = !nvidia-smi\n",
        "gpu_info = '\\n'.join(gpu_info)\n",
        "if gpu_info.find('failed') >= 0:\n",
        "  print('Select the Runtime > \"Change runtime type\" menu to enable a GPU accelerator, ')\n",
        "  print('and then re-execute this cell.')\n",
        "else:\n",
        "  print(gpu_info)\n",
        "\n",
        "print(\"Num GPUs Available: \", len(tf.config.list_physical_devices('GPU')))"
      ],
      "metadata": {
        "colab": {
          "base_uri": "https://localhost:8080/"
        },
        "id": "w5f99DAZRYVW",
        "outputId": "eddf9e43-49fc-4ed8-bf23-cad93e8c28f9"
      },
      "execution_count": 4,
      "outputs": [
        {
          "output_type": "stream",
          "name": "stdout",
          "text": [
            "Tue May  3 13:52:54 2022       \n",
            "+-----------------------------------------------------------------------------+\n",
            "| NVIDIA-SMI 460.32.03    Driver Version: 460.32.03    CUDA Version: 11.2     |\n",
            "|-------------------------------+----------------------+----------------------+\n",
            "| GPU  Name        Persistence-M| Bus-Id        Disp.A | Volatile Uncorr. ECC |\n",
            "| Fan  Temp  Perf  Pwr:Usage/Cap|         Memory-Usage | GPU-Util  Compute M. |\n",
            "|                               |                      |               MIG M. |\n",
            "|===============================+======================+======================|\n",
            "|   0  Tesla T4            Off  | 00000000:00:04.0 Off |                    0 |\n",
            "| N/A   39C    P8    10W /  70W |      0MiB / 15109MiB |      0%      Default |\n",
            "|                               |                      |                  N/A |\n",
            "+-------------------------------+----------------------+----------------------+\n",
            "                                                                               \n",
            "+-----------------------------------------------------------------------------+\n",
            "| Processes:                                                                  |\n",
            "|  GPU   GI   CI        PID   Type   Process name                  GPU Memory |\n",
            "|        ID   ID                                                   Usage      |\n",
            "|=============================================================================|\n",
            "|  No running processes found                                                 |\n",
            "+-----------------------------------------------------------------------------+\n",
            "Num GPUs Available:  1\n"
          ]
        }
      ]
    },
    {
      "cell_type": "markdown",
      "source": [
        "## Acquiring Dataset"
      ],
      "metadata": {
        "id": "lgKICEpAXJoZ"
      }
    },
    {
      "cell_type": "code",
      "source": [
        "!pip install kaggle"
      ],
      "metadata": {
        "id": "q72I3BNdSLCS",
        "outputId": "9fe96227-deb5-4977-9433-d94dde6e2832",
        "colab": {
          "base_uri": "https://localhost:8080/"
        }
      },
      "execution_count": 5,
      "outputs": [
        {
          "output_type": "stream",
          "name": "stdout",
          "text": [
            "Requirement already satisfied: kaggle in /usr/local/lib/python3.7/dist-packages (1.5.12)\n",
            "Requirement already satisfied: six>=1.10 in /usr/local/lib/python3.7/dist-packages (from kaggle) (1.15.0)\n",
            "Requirement already satisfied: python-slugify in /usr/local/lib/python3.7/dist-packages (from kaggle) (6.1.2)\n",
            "Requirement already satisfied: tqdm in /usr/local/lib/python3.7/dist-packages (from kaggle) (4.64.0)\n",
            "Requirement already satisfied: certifi in /usr/local/lib/python3.7/dist-packages (from kaggle) (2021.10.8)\n",
            "Requirement already satisfied: requests in /usr/local/lib/python3.7/dist-packages (from kaggle) (2.23.0)\n",
            "Requirement already satisfied: python-dateutil in /usr/local/lib/python3.7/dist-packages (from kaggle) (2.8.2)\n",
            "Requirement already satisfied: urllib3 in /usr/local/lib/python3.7/dist-packages (from kaggle) (1.24.3)\n",
            "Requirement already satisfied: text-unidecode>=1.3 in /usr/local/lib/python3.7/dist-packages (from python-slugify->kaggle) (1.3)\n",
            "Requirement already satisfied: idna<3,>=2.5 in /usr/local/lib/python3.7/dist-packages (from requests->kaggle) (2.10)\n",
            "Requirement already satisfied: chardet<4,>=3.0.2 in /usr/local/lib/python3.7/dist-packages (from requests->kaggle) (3.0.4)\n"
          ]
        }
      ]
    },
    {
      "cell_type": "code",
      "source": [
        "from google.colab import files\n",
        "\n",
        "uploaded = files.upload()\n",
        "\n",
        "for fn in uploaded.keys():\n",
        "  print('User uploaded file \"{name}\" with length {length} bytes'.format(\n",
        "      name=fn, length=len(uploaded[fn])))\n",
        "  \n",
        "# Then move kaggle.json into the folder where the API expects to find it.\n",
        "!mkdir -p ~/.kaggle/ && mv kaggle.json ~/.kaggle/ && chmod 600 ~/.kaggle/kaggle.json"
      ],
      "metadata": {
        "colab": {
          "resources": {
            "http://localhost:8080/nbextensions/google.colab/files.js": {
              "data": "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",
              "ok": true,
              "headers": [
                [
                  "content-type",
                  "application/javascript"
                ]
              ],
              "status": 200,
              "status_text": ""
            }
          },
          "base_uri": "https://localhost:8080/",
          "height": 90
        },
        "id": "xIrw6uJqSTdf",
        "outputId": "e5fe9409-13ab-40bf-f257-d8335cae3321"
      },
      "execution_count": 6,
      "outputs": [
        {
          "output_type": "display_data",
          "data": {
            "text/plain": [
              "<IPython.core.display.HTML object>"
            ],
            "text/html": [
              "\n",
              "     <input type=\"file\" id=\"files-bc74d6b4-86fa-417d-bb00-d2392d2ff878\" name=\"files[]\" multiple disabled\n",
              "        style=\"border:none\" />\n",
              "     <output id=\"result-bc74d6b4-86fa-417d-bb00-d2392d2ff878\">\n",
              "      Upload widget is only available when the cell has been executed in the\n",
              "      current browser session. Please rerun this cell to enable.\n",
              "      </output>\n",
              "      <script src=\"/nbextensions/google.colab/files.js\"></script> "
            ]
          },
          "metadata": {}
        },
        {
          "output_type": "stream",
          "name": "stdout",
          "text": [
            "Saving kaggle.json to kaggle.json\n",
            "User uploaded file \"kaggle.json\" with length 65 bytes\n"
          ]
        }
      ]
    },
    {
      "cell_type": "code",
      "source": [
        "!kaggle datasets download -d borismarjanovic/price-volume-data-for-all-us-stocks-etfs"
      ],
      "metadata": {
        "colab": {
          "base_uri": "https://localhost:8080/"
        },
        "id": "9zObZ35gSgAA",
        "outputId": "8314863a-e2ae-41f8-cbf4-2f807a17c7b0"
      },
      "execution_count": 7,
      "outputs": [
        {
          "output_type": "stream",
          "name": "stdout",
          "text": [
            "Downloading price-volume-data-for-all-us-stocks-etfs.zip to /content\n",
            "100% 491M/492M [00:05<00:00, 125MB/s]\n",
            "100% 492M/492M [00:05<00:00, 99.9MB/s]\n"
          ]
        }
      ]
    },
    {
      "cell_type": "code",
      "source": [
        "!unzip price-volume-data-for-all-us-stocks-etfs.zip"
      ],
      "metadata": {
        "id": "VJ5fk38FVMJL"
      },
      "execution_count": null,
      "outputs": []
    },
    {
      "cell_type": "markdown",
      "source": [
        "## Read Dataset"
      ],
      "metadata": {
        "id": "3XZ2l6ssXSkP"
      }
    },
    {
      "cell_type": "code",
      "source": [
        "ticker = 'AMZN'\n",
        "dataset = pd.read_csv(f\"/content/Data/Stocks/{ticker.lower()}.us.txt\", sep=\",\")"
      ],
      "metadata": {
        "id": "jEBSN9GRWI6s"
      },
      "execution_count": 9,
      "outputs": []
    },
    {
      "cell_type": "code",
      "source": [
        "dataset.head()"
      ],
      "metadata": {
        "colab": {
          "base_uri": "https://localhost:8080/",
          "height": 206
        },
        "id": "o0OqgMr5X5yg",
        "outputId": "749b035c-c256-4a42-8de3-e3554aa85584"
      },
      "execution_count": 15,
      "outputs": [
        {
          "output_type": "execute_result",
          "data": {
            "text/plain": [
              "         Date  Open  High   Low  Close    Volume  OpenInt\n",
              "0  1997-05-16  1.97  1.98  1.71   1.73  14700000        0\n",
              "1  1997-05-19  1.76  1.77  1.62   1.71   6106800        0\n",
              "2  1997-05-20  1.73  1.75  1.64   1.64   5467200        0\n",
              "3  1997-05-21  1.64  1.65  1.38   1.43  18853200        0\n",
              "4  1997-05-22  1.44  1.45  1.31   1.40  11776800        0"
            ],
            "text/html": [
              "\n",
              "  <div id=\"df-9f4193d2-36da-44e9-8142-d24e94057e4b\">\n",
              "    <div class=\"colab-df-container\">\n",
              "      <div>\n",
              "<style scoped>\n",
              "    .dataframe tbody tr th:only-of-type {\n",
              "        vertical-align: middle;\n",
              "    }\n",
              "\n",
              "    .dataframe tbody tr th {\n",
              "        vertical-align: top;\n",
              "    }\n",
              "\n",
              "    .dataframe thead th {\n",
              "        text-align: right;\n",
              "    }\n",
              "</style>\n",
              "<table border=\"1\" class=\"dataframe\">\n",
              "  <thead>\n",
              "    <tr style=\"text-align: right;\">\n",
              "      <th></th>\n",
              "      <th>Date</th>\n",
              "      <th>Open</th>\n",
              "      <th>High</th>\n",
              "      <th>Low</th>\n",
              "      <th>Close</th>\n",
              "      <th>Volume</th>\n",
              "      <th>OpenInt</th>\n",
              "    </tr>\n",
              "  </thead>\n",
              "  <tbody>\n",
              "    <tr>\n",
              "      <th>0</th>\n",
              "      <td>1997-05-16</td>\n",
              "      <td>1.97</td>\n",
              "      <td>1.98</td>\n",
              "      <td>1.71</td>\n",
              "      <td>1.73</td>\n",
              "      <td>14700000</td>\n",
              "      <td>0</td>\n",
              "    </tr>\n",
              "    <tr>\n",
              "      <th>1</th>\n",
              "      <td>1997-05-19</td>\n",
              "      <td>1.76</td>\n",
              "      <td>1.77</td>\n",
              "      <td>1.62</td>\n",
              "      <td>1.71</td>\n",
              "      <td>6106800</td>\n",
              "      <td>0</td>\n",
              "    </tr>\n",
              "    <tr>\n",
              "      <th>2</th>\n",
              "      <td>1997-05-20</td>\n",
              "      <td>1.73</td>\n",
              "      <td>1.75</td>\n",
              "      <td>1.64</td>\n",
              "      <td>1.64</td>\n",
              "      <td>5467200</td>\n",
              "      <td>0</td>\n",
              "    </tr>\n",
              "    <tr>\n",
              "      <th>3</th>\n",
              "      <td>1997-05-21</td>\n",
              "      <td>1.64</td>\n",
              "      <td>1.65</td>\n",
              "      <td>1.38</td>\n",
              "      <td>1.43</td>\n",
              "      <td>18853200</td>\n",
              "      <td>0</td>\n",
              "    </tr>\n",
              "    <tr>\n",
              "      <th>4</th>\n",
              "      <td>1997-05-22</td>\n",
              "      <td>1.44</td>\n",
              "      <td>1.45</td>\n",
              "      <td>1.31</td>\n",
              "      <td>1.40</td>\n",
              "      <td>11776800</td>\n",
              "      <td>0</td>\n",
              "    </tr>\n",
              "  </tbody>\n",
              "</table>\n",
              "</div>\n",
              "      <button class=\"colab-df-convert\" onclick=\"convertToInteractive('df-9f4193d2-36da-44e9-8142-d24e94057e4b')\"\n",
              "              title=\"Convert this dataframe to an interactive table.\"\n",
              "              style=\"display:none;\">\n",
              "        \n",
              "  <svg xmlns=\"http://www.w3.org/2000/svg\" height=\"24px\"viewBox=\"0 0 24 24\"\n",
              "       width=\"24px\">\n",
              "    <path d=\"M0 0h24v24H0V0z\" fill=\"none\"/>\n",
              "    <path d=\"M18.56 5.44l.94 2.06.94-2.06 2.06-.94-2.06-.94-.94-2.06-.94 2.06-2.06.94zm-11 1L8.5 8.5l.94-2.06 2.06-.94-2.06-.94L8.5 2.5l-.94 2.06-2.06.94zm10 10l.94 2.06.94-2.06 2.06-.94-2.06-.94-.94-2.06-.94 2.06-2.06.94z\"/><path d=\"M17.41 7.96l-1.37-1.37c-.4-.4-.92-.59-1.43-.59-.52 0-1.04.2-1.43.59L10.3 9.45l-7.72 7.72c-.78.78-.78 2.05 0 2.83L4 21.41c.39.39.9.59 1.41.59.51 0 1.02-.2 1.41-.59l7.78-7.78 2.81-2.81c.8-.78.8-2.07 0-2.86zM5.41 20L4 18.59l7.72-7.72 1.47 1.35L5.41 20z\"/>\n",
              "  </svg>\n",
              "      </button>\n",
              "      \n",
              "  <style>\n",
              "    .colab-df-container {\n",
              "      display:flex;\n",
              "      flex-wrap:wrap;\n",
              "      gap: 12px;\n",
              "    }\n",
              "\n",
              "    .colab-df-convert {\n",
              "      background-color: #E8F0FE;\n",
              "      border: none;\n",
              "      border-radius: 50%;\n",
              "      cursor: pointer;\n",
              "      display: none;\n",
              "      fill: #1967D2;\n",
              "      height: 32px;\n",
              "      padding: 0 0 0 0;\n",
              "      width: 32px;\n",
              "    }\n",
              "\n",
              "    .colab-df-convert:hover {\n",
              "      background-color: #E2EBFA;\n",
              "      box-shadow: 0px 1px 2px rgba(60, 64, 67, 0.3), 0px 1px 3px 1px rgba(60, 64, 67, 0.15);\n",
              "      fill: #174EA6;\n",
              "    }\n",
              "\n",
              "    [theme=dark] .colab-df-convert {\n",
              "      background-color: #3B4455;\n",
              "      fill: #D2E3FC;\n",
              "    }\n",
              "\n",
              "    [theme=dark] .colab-df-convert:hover {\n",
              "      background-color: #434B5C;\n",
              "      box-shadow: 0px 1px 3px 1px rgba(0, 0, 0, 0.15);\n",
              "      filter: drop-shadow(0px 1px 2px rgba(0, 0, 0, 0.3));\n",
              "      fill: #FFFFFF;\n",
              "    }\n",
              "  </style>\n",
              "\n",
              "      <script>\n",
              "        const buttonEl =\n",
              "          document.querySelector('#df-9f4193d2-36da-44e9-8142-d24e94057e4b button.colab-df-convert');\n",
              "        buttonEl.style.display =\n",
              "          google.colab.kernel.accessAllowed ? 'block' : 'none';\n",
              "\n",
              "        async function convertToInteractive(key) {\n",
              "          const element = document.querySelector('#df-9f4193d2-36da-44e9-8142-d24e94057e4b');\n",
              "          const dataTable =\n",
              "            await google.colab.kernel.invokeFunction('convertToInteractive',\n",
              "                                                     [key], {});\n",
              "          if (!dataTable) return;\n",
              "\n",
              "          const docLinkHtml = 'Like what you see? Visit the ' +\n",
              "            '<a target=\"_blank\" href=https://colab.research.google.com/notebooks/data_table.ipynb>data table notebook</a>'\n",
              "            + ' to learn more about interactive tables.';\n",
              "          element.innerHTML = '';\n",
              "          dataTable['output_type'] = 'display_data';\n",
              "          await google.colab.output.renderOutput(dataTable, element);\n",
              "          const docLink = document.createElement('div');\n",
              "          docLink.innerHTML = docLinkHtml;\n",
              "          element.appendChild(docLink);\n",
              "        }\n",
              "      </script>\n",
              "    </div>\n",
              "  </div>\n",
              "  "
            ]
          },
          "metadata": {},
          "execution_count": 15
        }
      ]
    },
    {
      "cell_type": "code",
      "source": [
        "dataset.shape"
      ],
      "metadata": {
        "colab": {
          "base_uri": "https://localhost:8080/"
        },
        "id": "GCsqV3ZkW1Wq",
        "outputId": "dd37504f-5876-48e6-dbb5-63d0e889fa7b"
      },
      "execution_count": 16,
      "outputs": [
        {
          "output_type": "execute_result",
          "data": {
            "text/plain": [
              "(5153, 7)"
            ]
          },
          "metadata": {},
          "execution_count": 16
        }
      ]
    },
    {
      "cell_type": "code",
      "source": [
        "dataset.plot(x='Date', y='Close', figsize=(15,7), grid=True, title='Close Price History')"
      ],
      "metadata": {
        "colab": {
          "base_uri": "https://localhost:8080/",
          "height": 475
        },
        "id": "pZMjarP8X-6w",
        "outputId": "a7f18e9b-d0a5-4aa9-be63-66630529639f"
      },
      "execution_count": 17,
      "outputs": [
        {
          "output_type": "execute_result",
          "data": {
            "text/plain": [
              "<matplotlib.axes._subplots.AxesSubplot at 0x7f80ed13cf50>"
            ]
          },
          "metadata": {},
          "execution_count": 17
        },
        {
          "output_type": "display_data",
          "data": {
            "text/plain": [
              "<Figure size 1080x504 with 1 Axes>"
            ],
            "image/png": "[encoded data removed]"
          },
          "metadata": {
            "needs_background": "light"
          }
        }
      ]
    },
    {
      "cell_type": "code",
      "source": [
        "# Extract Features used in training and predictions\n",
        "df_train = dataset.drop(['Date', 'Volume', 'OpenInt'], axis=1)\n",
        "train = df_train.to_numpy()\n",
        "print(f\"training set shape: {train.shape}\")\n",
        "print(train)\n",
        "\n",
        "# Exctract Dates\n",
        "datelist_train = list(dataset['Date'])\n",
        "datelist_train = [dt.datetime.strptime(date, '%Y-%m-%d').date() for date in datelist_train]\n",
        "print(f\"Number of all timestamps: {len(datelist_train)}\")"
      ],
      "metadata": {
        "colab": {
          "base_uri": "https://localhost:8080/"
        },
        "id": "egdv8r5c49Kv",
        "outputId": "808e91a4-2404-4ca4-d6a6-934dea97192b"
      },
      "execution_count": 18,
      "outputs": [
        {
          "output_type": "stream",
          "name": "stdout",
          "text": [
            "training set shape: (5153, 4)\n",
            "[[   1.97    1.98    1.71    1.73]\n",
            " [   1.76    1.77    1.62    1.71]\n",
            " [   1.73    1.75    1.64    1.64]\n",
            " ...\n",
            " [1122.82 1135.54 1119.11 1132.88]\n",
            " [1125.96 1129.62 1115.77 1129.13]\n",
            " [1126.1  1131.75 1124.06 1125.35]]\n",
            "Number of all timestamps: 5153\n"
          ]
        }
      ]
    },
    {
      "cell_type": "code",
      "source": [
        "# Add noise (optional) run ony once\n",
        "plt.plot(train[:,2:3], label='clean')\n",
        "\n",
        "mean = 0\n",
        "std = 1\n",
        "\n",
        "for i in range(train.shape[1]-1):\n",
        "  noise = np.random.normal(mean, std, size=(train.shape[0],1))\n",
        "  noise.transpose()\n",
        "  train[:,i:i+1] = train[:,i:i+1] + noise\n",
        "\n",
        "\n",
        "\n",
        "plt.plot(train[:,2:3], label='noisy')\n",
        "plt.legend()\n",
        "plt.show()\n",
        "print(train)"
      ],
      "metadata": {
        "colab": {
          "base_uri": "https://localhost:8080/",
          "height": 387
        },
        "id": "2tUENuJKWzE2",
        "outputId": "04721aca-193e-493d-a85f-542b1a754346"
      },
      "execution_count": 14,
      "outputs": [
        {
          "output_type": "display_data",
          "data": {
            "text/plain": [
              "<Figure size 432x288 with 1 Axes>"
            ],
            "image/png": "[encoded data removed]"
          },
          "metadata": {
            "needs_background": "light"
          }
        },
        {
          "output_type": "stream",
          "name": "stdout",
          "text": [
            "[[8.44061325e-01 2.78695817e+00 9.40741746e-01 1.73000000e+00]\n",
            " [1.43588596e+00 9.11918283e-01 1.65759243e+00 1.71000000e+00]\n",
            " [1.41338184e+00 1.43286173e+00 1.48660473e+00 1.64000000e+00]\n",
            " ...\n",
            " [1.12376822e+03 1.13472808e+03 1.12019789e+03 1.13288000e+03]\n",
            " [1.12681114e+03 1.12759203e+03 1.11663993e+03 1.12913000e+03]\n",
            " [1.12596416e+03 1.13290450e+03 1.12330935e+03 1.12535000e+03]]\n"
          ]
        }
      ]
    },
    {
      "cell_type": "code",
      "source": [
        "# Feature scaling\n",
        "sc = MinMaxScaler(feature_range=(0,1))\n",
        "train_scaled = sc.fit_transform(train)\n",
        "\n",
        "sc_predict = MinMaxScaler(feature_range=(0,1))\n",
        "sc_predict.fit_transform(train[:,0:1])\n"
      ],
      "metadata": {
        "colab": {
          "base_uri": "https://localhost:8080/"
        },
        "id": "k9vYS9xN6oUL",
        "outputId": "858bbd25-33b0-48f3-c59e-e65a05325511"
      },
      "execution_count": 19,
      "outputs": [
        {
          "output_type": "execute_result",
          "data": {
            "text/plain": [
              "array([[4.97914981e-04],\n",
              "       [3.11196863e-04],\n",
              "       [2.84522846e-04],\n",
              "       ...,\n",
              "       [9.97083641e-01],\n",
              "       [9.99875521e-01],\n",
              "       [1.00000000e+00]])"
            ]
          },
          "metadata": {},
          "execution_count": 19
        }
      ]
    },
    {
      "cell_type": "code",
      "source": [
        "# Creating data structure\n",
        "X_train = []\n",
        "y_train = []\n",
        "\n",
        "n_future = 30   # Number of days we want to predict into the future\n",
        "n_past = 90     # Number of past days we want the model to learn from\n",
        "\n",
        "for i in range(n_past, len(train_scaled)-n_future+1):\n",
        "  X_train.append(train_scaled[i-n_past:i, 0:train.shape[1]-1])\n",
        "  y_train.append(train_scaled[i+n_future-1:i+n_future,0])\n",
        "\n",
        "X_train, y_train = np.array(X_train, dtype=\"float64\"), np.array(y_train, dtype=\"float64\")\n",
        "\n",
        "print(f\"X_train shape: {X_train.shape}\")\n",
        "print(f\"y_train shape: {y_train.shape}\")"
      ],
      "metadata": {
        "colab": {
          "base_uri": "https://localhost:8080/"
        },
        "id": "-7iEpgUS9JJc",
        "outputId": "6ce00a4b-fbd9-438f-f1a3-eff5e083261d"
      },
      "execution_count": 20,
      "outputs": [
        {
          "output_type": "stream",
          "name": "stdout",
          "text": [
            "X_train shape: (5034, 90, 3)\n",
            "y_train shape: (5034, 1)\n"
          ]
        }
      ]
    },
    {
      "cell_type": "markdown",
      "source": [
        "## Creating the Model"
      ],
      "metadata": {
        "id": "OVZYTIgXBkT9"
      }
    },
    {
      "cell_type": "code",
      "source": [
        "ls = 'mean_squared_error'\n",
        "# Initializing the Neural Network based on LSTM\n",
        "model = Sequential()\n",
        "\n",
        "# Adding 1st LSTM layer\n",
        "model.add(LSTM(units=128, return_sequences=True, input_shape=(n_past, train.shape[1]-1)))\n",
        "\n",
        "# Adding 2nd LSTM layer\n",
        "model.add(LSTM(units=64, return_sequences=False))\n",
        "\n",
        "# Adding Dense layer\n",
        "model.add(Dense(units=25))\n",
        "\n",
        "# Adding Dropout layer\n",
        "model.add(Dropout(0.25))\n",
        "\n",
        "# Output layer\n",
        "model.add(Dense(units=1, activation='linear'))\n",
        "\n",
        "# Compiling the Neural Network\n",
        "model.compile(optimizer=keras.optimizers.Adam(learning_rate=0.01), loss=ls)\n",
        "model.summary()"
      ],
      "metadata": {
        "colab": {
          "base_uri": "https://localhost:8080/"
        },
        "id": "c1yIrGvbBjy2",
        "outputId": "da133be7-baa1-4dde-fd4b-82694d7d7b64"
      },
      "execution_count": 21,
      "outputs": [
        {
          "output_type": "stream",
          "name": "stdout",
          "text": [
            "Model: \"sequential\"\n",
            "_________________________________________________________________\n",
            " Layer (type)                Output Shape              Param #   \n",
            "=================================================================\n",
            " lstm (LSTM)                 (None, 90, 128)           67584     \n",
            "                                                                 \n",
            " lstm_1 (LSTM)               (None, 64)                49408     \n",
            "                                                                 \n",
            " dense (Dense)               (None, 25)                1625      \n",
            "                                                                 \n",
            " dropout (Dropout)           (None, 25)                0         \n",
            "                                                                 \n",
            " dense_1 (Dense)             (None, 1)                 26        \n",
            "                                                                 \n",
            "=================================================================\n",
            "Total params: 118,643\n",
            "Trainable params: 118,643\n",
            "Non-trainable params: 0\n",
            "_________________________________________________________________\n"
          ]
        }
      ]
    },
    {
      "cell_type": "markdown",
      "source": [
        "## Training the Model"
      ],
      "metadata": {
        "id": "KiuORlVRCMZT"
      }
    },
    {
      "cell_type": "code",
      "source": [
        "# Callbacks\n",
        "#es = EarlyStopping(monitor='val_loss', min_delta=1e-10, patience=10, verbose=1)\n",
        "rlr = ReduceLROnPlateau(monitor='val_loss', factor=0.2, patience=10, verbose=1)\n",
        "\n",
        "history = model.fit(X_train, y_train, shuffle=True, epochs=100, callbacks=[rlr], validation_split=0.2, verbose=1, batch_size=256)"
      ],
      "metadata": {
        "colab": {
          "base_uri": "https://localhost:8080/"
        },
        "id": "6b_S_mmZCL_v",
        "outputId": "0268304b-0cae-46c8-fb42-58afff0a9ccc"
      },
      "execution_count": 22,
      "outputs": [
        {
          "output_type": "stream",
          "name": "stdout",
          "text": [
            "Epoch 1/100\n",
            "16/16 [==============================] - 8s 72ms/step - loss: 0.0131 - val_loss: 0.0046 - lr: 0.0100\n",
            "Epoch 2/100\n",
            "16/16 [==============================] - 0s 17ms/step - loss: 6.2034e-04 - val_loss: 0.0069 - lr: 0.0100\n",
            "Epoch 3/100\n",
            "16/16 [==============================] - 0s 17ms/step - loss: 3.7490e-04 - val_loss: 0.0074 - lr: 0.0100\n",
            "Epoch 4/100\n",
            "16/16 [==============================] - 0s 17ms/step - loss: 2.9845e-04 - val_loss: 0.0047 - lr: 0.0100\n",
            "Epoch 5/100\n",
            "16/16 [==============================] - 0s 18ms/step - loss: 3.0501e-04 - val_loss: 0.0049 - lr: 0.0100\n",
            "Epoch 6/100\n",
            "16/16 [==============================] - 0s 17ms/step - loss: 2.8129e-04 - val_loss: 0.0037 - lr: 0.0100\n",
            "Epoch 7/100\n",
            "16/16 [==============================] - 0s 17ms/step - loss: 2.7388e-04 - val_loss: 0.0023 - lr: 0.0100\n",
            "Epoch 8/100\n",
            "16/16 [==============================] - 0s 18ms/step - loss: 2.8865e-04 - val_loss: 0.0027 - lr: 0.0100\n",
            "Epoch 9/100\n",
            "16/16 [==============================] - 0s 18ms/step - loss: 2.5583e-04 - val_loss: 0.0023 - lr: 0.0100\n",
            "Epoch 10/100\n",
            "16/16 [==============================] - 0s 16ms/step - loss: 2.5732e-04 - val_loss: 0.0023 - lr: 0.0100\n",
            "Epoch 11/100\n",
            "16/16 [==============================] - 0s 17ms/step - loss: 2.6062e-04 - val_loss: 0.0024 - lr: 0.0100\n",
            "Epoch 12/100\n",
            "16/16 [==============================] - 0s 17ms/step - loss: 2.4724e-04 - val_loss: 0.0023 - lr: 0.0100\n",
            "Epoch 13/100\n",
            "16/16 [==============================] - 0s 17ms/step - loss: 2.3086e-04 - val_loss: 0.0025 - lr: 0.0100\n",
            "Epoch 14/100\n",
            "16/16 [==============================] - 0s 17ms/step - loss: 2.2640e-04 - val_loss: 0.0024 - lr: 0.0100\n",
            "Epoch 15/100\n",
            "16/16 [==============================] - 0s 18ms/step - loss: 2.3100e-04 - val_loss: 0.0030 - lr: 0.0100\n",
            "Epoch 16/100\n",
            "16/16 [==============================] - 0s 18ms/step - loss: 2.3595e-04 - val_loss: 0.0026 - lr: 0.0100\n",
            "Epoch 17/100\n",
            "13/16 [=======================>......] - ETA: 0s - loss: 2.1641e-04\n",
            "Epoch 17: ReduceLROnPlateau reducing learning rate to 0.0019999999552965165.\n",
            "16/16 [==============================] - 0s 17ms/step - loss: 2.2933e-04 - val_loss: 0.0024 - lr: 0.0100\n",
            "Epoch 18/100\n",
            "16/16 [==============================] - 0s 19ms/step - loss: 2.3480e-04 - val_loss: 0.0023 - lr: 0.0020\n",
            "Epoch 19/100\n",
            "16/16 [==============================] - 0s 17ms/step - loss: 2.1925e-04 - val_loss: 0.0023 - lr: 0.0020\n",
            "Epoch 20/100\n",
            "16/16 [==============================] - 0s 17ms/step - loss: 2.1182e-04 - val_loss: 0.0022 - lr: 0.0020\n",
            "Epoch 21/100\n",
            "16/16 [==============================] - 0s 17ms/step - loss: 2.0743e-04 - val_loss: 0.0023 - lr: 0.0020\n",
            "Epoch 22/100\n",
            "16/16 [==============================] - 0s 17ms/step - loss: 2.1564e-04 - val_loss: 0.0024 - lr: 0.0020\n",
            "Epoch 23/100\n",
            "16/16 [==============================] - 0s 17ms/step - loss: 2.0441e-04 - val_loss: 0.0023 - lr: 0.0020\n",
            "Epoch 24/100\n",
            "16/16 [==============================] - 0s 17ms/step - loss: 2.0671e-04 - val_loss: 0.0024 - lr: 0.0020\n",
            "Epoch 25/100\n",
            "16/16 [==============================] - 0s 17ms/step - loss: 1.9680e-04 - val_loss: 0.0023 - lr: 0.0020\n",
            "Epoch 26/100\n",
            "16/16 [==============================] - 0s 18ms/step - loss: 2.0688e-04 - val_loss: 0.0023 - lr: 0.0020\n",
            "Epoch 27/100\n",
            "13/16 [=======================>......] - ETA: 0s - loss: 2.0260e-04\n",
            "Epoch 27: ReduceLROnPlateau reducing learning rate to 0.0003999999724328518.\n",
            "16/16 [==============================] - 0s 18ms/step - loss: 2.0533e-04 - val_loss: 0.0024 - lr: 0.0020\n",
            "Epoch 28/100\n",
            "16/16 [==============================] - 0s 16ms/step - loss: 2.0818e-04 - val_loss: 0.0024 - lr: 4.0000e-04\n",
            "Epoch 29/100\n",
            "16/16 [==============================] - 0s 17ms/step - loss: 1.9908e-04 - val_loss: 0.0023 - lr: 4.0000e-04\n",
            "Epoch 30/100\n",
            "16/16 [==============================] - 0s 17ms/step - loss: 1.9836e-04 - val_loss: 0.0024 - lr: 4.0000e-04\n",
            "Epoch 31/100\n",
            "16/16 [==============================] - 0s 17ms/step - loss: 1.9662e-04 - val_loss: 0.0024 - lr: 4.0000e-04\n",
            "Epoch 32/100\n",
            "16/16 [==============================] - 0s 17ms/step - loss: 1.9730e-04 - val_loss: 0.0024 - lr: 4.0000e-04\n",
            "Epoch 33/100\n",
            "16/16 [==============================] - 0s 19ms/step - loss: 2.0486e-04 - val_loss: 0.0024 - lr: 4.0000e-04\n",
            "Epoch 34/100\n",
            "16/16 [==============================] - 0s 17ms/step - loss: 2.0922e-04 - val_loss: 0.0023 - lr: 4.0000e-04\n",
            "Epoch 35/100\n",
            "16/16 [==============================] - 0s 17ms/step - loss: 2.0704e-04 - val_loss: 0.0024 - lr: 4.0000e-04\n",
            "Epoch 36/100\n",
            "16/16 [==============================] - 0s 17ms/step - loss: 2.0960e-04 - val_loss: 0.0024 - lr: 4.0000e-04\n",
            "Epoch 37/100\n",
            "13/16 [=======================>......] - ETA: 0s - loss: 2.0538e-04\n",
            "Epoch 37: ReduceLROnPlateau reducing learning rate to 7.999999215826393e-05.\n",
            "16/16 [==============================] - 0s 18ms/step - loss: 2.0199e-04 - val_loss: 0.0024 - lr: 4.0000e-04\n",
            "Epoch 38/100\n",
            "16/16 [==============================] - 0s 18ms/step - loss: 2.0369e-04 - val_loss: 0.0024 - lr: 8.0000e-05\n",
            "Epoch 39/100\n",
            "16/16 [==============================] - 0s 17ms/step - loss: 1.9552e-04 - val_loss: 0.0024 - lr: 8.0000e-05\n",
            "Epoch 40/100\n",
            "16/16 [==============================] - 0s 17ms/step - loss: 2.0752e-04 - val_loss: 0.0024 - lr: 8.0000e-05\n",
            "Epoch 41/100\n",
            "16/16 [==============================] - 0s 17ms/step - loss: 1.9441e-04 - val_loss: 0.0024 - lr: 8.0000e-05\n",
            "Epoch 42/100\n",
            "16/16 [==============================] - 0s 18ms/step - loss: 2.0325e-04 - val_loss: 0.0024 - lr: 8.0000e-05\n",
            "Epoch 43/100\n",
            "16/16 [==============================] - 0s 17ms/step - loss: 1.9900e-04 - val_loss: 0.0024 - lr: 8.0000e-05\n",
            "Epoch 44/100\n",
            "16/16 [==============================] - 0s 18ms/step - loss: 1.9949e-04 - val_loss: 0.0024 - lr: 8.0000e-05\n",
            "Epoch 45/100\n",
            "16/16 [==============================] - 0s 17ms/step - loss: 2.0202e-04 - val_loss: 0.0024 - lr: 8.0000e-05\n",
            "Epoch 46/100\n",
            "16/16 [==============================] - 0s 17ms/step - loss: 1.9805e-04 - val_loss: 0.0024 - lr: 8.0000e-05\n",
            "Epoch 47/100\n",
            "16/16 [==============================] - ETA: 0s - loss: 2.1025e-04\n",
            "Epoch 47: ReduceLROnPlateau reducing learning rate to 1.599999814061448e-05.\n",
            "16/16 [==============================] - 0s 18ms/step - loss: 2.1025e-04 - val_loss: 0.0024 - lr: 8.0000e-05\n",
            "Epoch 48/100\n",
            "16/16 [==============================] - 0s 18ms/step - loss: 1.9961e-04 - val_loss: 0.0024 - lr: 1.6000e-05\n",
            "Epoch 49/100\n",
            "16/16 [==============================] - 0s 17ms/step - loss: 1.9917e-04 - val_loss: 0.0024 - lr: 1.6000e-05\n",
            "Epoch 50/100\n",
            "16/16 [==============================] - 0s 17ms/step - loss: 2.0181e-04 - val_loss: 0.0024 - lr: 1.6000e-05\n",
            "Epoch 51/100\n",
            "16/16 [==============================] - 0s 20ms/step - loss: 1.9832e-04 - val_loss: 0.0024 - lr: 1.6000e-05\n",
            "Epoch 52/100\n",
            "16/16 [==============================] - 0s 17ms/step - loss: 1.9715e-04 - val_loss: 0.0024 - lr: 1.6000e-05\n",
            "Epoch 53/100\n",
            "16/16 [==============================] - 0s 17ms/step - loss: 2.0935e-04 - val_loss: 0.0024 - lr: 1.6000e-05\n",
            "Epoch 54/100\n",
            "16/16 [==============================] - 0s 17ms/step - loss: 1.9660e-04 - val_loss: 0.0024 - lr: 1.6000e-05\n",
            "Epoch 55/100\n",
            "16/16 [==============================] - 0s 17ms/step - loss: 2.0146e-04 - val_loss: 0.0025 - lr: 1.6000e-05\n",
            "Epoch 56/100\n",
            "16/16 [==============================] - 0s 17ms/step - loss: 1.9980e-04 - val_loss: 0.0025 - lr: 1.6000e-05\n",
            "Epoch 57/100\n",
            "13/16 [=======================>......] - ETA: 0s - loss: 1.8724e-04\n",
            "Epoch 57: ReduceLROnPlateau reducing learning rate to 3.199999628122896e-06.\n",
            "16/16 [==============================] - 0s 17ms/step - loss: 1.9152e-04 - val_loss: 0.0024 - lr: 1.6000e-05\n",
            "Epoch 58/100\n",
            "16/16 [==============================] - 0s 17ms/step - loss: 1.9933e-04 - val_loss: 0.0024 - lr: 3.2000e-06\n",
            "Epoch 59/100\n",
            "16/16 [==============================] - 0s 18ms/step - loss: 2.0306e-04 - val_loss: 0.0024 - lr: 3.2000e-06\n",
            "Epoch 60/100\n",
            "16/16 [==============================] - 0s 17ms/step - loss: 1.9960e-04 - val_loss: 0.0024 - lr: 3.2000e-06\n",
            "Epoch 61/100\n",
            "16/16 [==============================] - 0s 17ms/step - loss: 1.8841e-04 - val_loss: 0.0024 - lr: 3.2000e-06\n",
            "Epoch 62/100\n",
            "16/16 [==============================] - 0s 19ms/step - loss: 2.0409e-04 - val_loss: 0.0024 - lr: 3.2000e-06\n",
            "Epoch 63/100\n",
            "16/16 [==============================] - 0s 16ms/step - loss: 1.9707e-04 - val_loss: 0.0024 - lr: 3.2000e-06\n",
            "Epoch 64/100\n",
            "16/16 [==============================] - 0s 17ms/step - loss: 2.0016e-04 - val_loss: 0.0024 - lr: 3.2000e-06\n",
            "Epoch 65/100\n",
            "16/16 [==============================] - 0s 18ms/step - loss: 1.9207e-04 - val_loss: 0.0024 - lr: 3.2000e-06\n",
            "Epoch 66/100\n",
            "16/16 [==============================] - 0s 18ms/step - loss: 1.9618e-04 - val_loss: 0.0024 - lr: 3.2000e-06\n",
            "Epoch 67/100\n",
            "13/16 [=======================>......] - ETA: 0s - loss: 1.9915e-04\n",
            "Epoch 67: ReduceLROnPlateau reducing learning rate to 6.399999165296323e-07.\n",
            "16/16 [==============================] - 0s 17ms/step - loss: 1.9620e-04 - val_loss: 0.0024 - lr: 3.2000e-06\n",
            "Epoch 68/100\n",
            "16/16 [==============================] - 0s 16ms/step - loss: 1.9701e-04 - val_loss: 0.0024 - lr: 6.4000e-07\n",
            "Epoch 69/100\n",
            "16/16 [==============================] - 0s 17ms/step - loss: 2.0897e-04 - val_loss: 0.0024 - lr: 6.4000e-07\n",
            "Epoch 70/100\n",
            "16/16 [==============================] - 0s 17ms/step - loss: 1.9806e-04 - val_loss: 0.0024 - lr: 6.4000e-07\n",
            "Epoch 71/100\n",
            "16/16 [==============================] - 0s 17ms/step - loss: 1.9542e-04 - val_loss: 0.0024 - lr: 6.4000e-07\n",
            "Epoch 72/100\n",
            "16/16 [==============================] - 0s 17ms/step - loss: 1.9953e-04 - val_loss: 0.0024 - lr: 6.4000e-07\n",
            "Epoch 73/100\n",
            "16/16 [==============================] - 0s 17ms/step - loss: 1.9349e-04 - val_loss: 0.0024 - lr: 6.4000e-07\n",
            "Epoch 74/100\n",
            "16/16 [==============================] - 0s 17ms/step - loss: 1.9963e-04 - val_loss: 0.0024 - lr: 6.4000e-07\n",
            "Epoch 75/100\n",
            "16/16 [==============================] - 0s 17ms/step - loss: 2.0154e-04 - val_loss: 0.0024 - lr: 6.4000e-07\n",
            "Epoch 76/100\n",
            "16/16 [==============================] - 0s 17ms/step - loss: 2.0139e-04 - val_loss: 0.0024 - lr: 6.4000e-07\n",
            "Epoch 77/100\n",
            "16/16 [==============================] - ETA: 0s - loss: 2.0392e-04\n",
            "Epoch 77: ReduceLROnPlateau reducing learning rate to 1.2799998785339995e-07.\n",
            "16/16 [==============================] - 0s 18ms/step - loss: 2.0392e-04 - val_loss: 0.0024 - lr: 6.4000e-07\n",
            "Epoch 78/100\n",
            "16/16 [==============================] - 0s 18ms/step - loss: 2.0413e-04 - val_loss: 0.0024 - lr: 1.2800e-07\n",
            "Epoch 79/100\n",
            "16/16 [==============================] - 0s 17ms/step - loss: 1.8704e-04 - val_loss: 0.0024 - lr: 1.2800e-07\n",
            "Epoch 80/100\n",
            "16/16 [==============================] - 0s 17ms/step - loss: 1.9877e-04 - val_loss: 0.0024 - lr: 1.2800e-07\n",
            "Epoch 81/100\n",
            "16/16 [==============================] - 0s 17ms/step - loss: 1.8910e-04 - val_loss: 0.0024 - lr: 1.2800e-07\n",
            "Epoch 82/100\n",
            "16/16 [==============================] - 0s 17ms/step - loss: 2.0276e-04 - val_loss: 0.0024 - lr: 1.2800e-07\n",
            "Epoch 83/100\n",
            "16/16 [==============================] - 0s 17ms/step - loss: 2.0008e-04 - val_loss: 0.0024 - lr: 1.2800e-07\n",
            "Epoch 84/100\n",
            "16/16 [==============================] - 0s 17ms/step - loss: 1.9625e-04 - val_loss: 0.0024 - lr: 1.2800e-07\n",
            "Epoch 85/100\n",
            "16/16 [==============================] - 0s 16ms/step - loss: 1.9632e-04 - val_loss: 0.0024 - lr: 1.2800e-07\n",
            "Epoch 86/100\n",
            "16/16 [==============================] - 0s 17ms/step - loss: 1.9848e-04 - val_loss: 0.0024 - lr: 1.2800e-07\n",
            "Epoch 87/100\n",
            "13/16 [=======================>......] - ETA: 0s - loss: 2.1723e-04\n",
            "Epoch 87: ReduceLROnPlateau reducing learning rate to 2.5599996433811613e-08.\n",
            "16/16 [==============================] - 0s 17ms/step - loss: 2.1204e-04 - val_loss: 0.0024 - lr: 1.2800e-07\n",
            "Epoch 88/100\n",
            "16/16 [==============================] - 0s 17ms/step - loss: 2.0244e-04 - val_loss: 0.0024 - lr: 2.5600e-08\n",
            "Epoch 89/100\n",
            "16/16 [==============================] - 0s 17ms/step - loss: 2.0780e-04 - val_loss: 0.0024 - lr: 2.5600e-08\n",
            "Epoch 90/100\n",
            "16/16 [==============================] - 0s 17ms/step - loss: 2.1026e-04 - val_loss: 0.0024 - lr: 2.5600e-08\n",
            "Epoch 91/100\n",
            "16/16 [==============================] - 0s 17ms/step - loss: 2.0084e-04 - val_loss: 0.0024 - lr: 2.5600e-08\n",
            "Epoch 92/100\n",
            "16/16 [==============================] - 0s 17ms/step - loss: 1.9618e-04 - val_loss: 0.0024 - lr: 2.5600e-08\n",
            "Epoch 93/100\n",
            "16/16 [==============================] - 0s 17ms/step - loss: 1.9236e-04 - val_loss: 0.0024 - lr: 2.5600e-08\n",
            "Epoch 94/100\n",
            "16/16 [==============================] - 0s 18ms/step - loss: 1.9826e-04 - val_loss: 0.0024 - lr: 2.5600e-08\n",
            "Epoch 95/100\n",
            "16/16 [==============================] - 0s 17ms/step - loss: 2.0913e-04 - val_loss: 0.0024 - lr: 2.5600e-08\n",
            "Epoch 96/100\n",
            "16/16 [==============================] - 0s 17ms/step - loss: 1.9956e-04 - val_loss: 0.0024 - lr: 2.5600e-08\n",
            "Epoch 97/100\n",
            "16/16 [==============================] - ETA: 0s - loss: 2.0650e-04\n",
            "Epoch 97: ReduceLROnPlateau reducing learning rate to 5.1199993578165965e-09.\n",
            "16/16 [==============================] - 0s 18ms/step - loss: 2.0650e-04 - val_loss: 0.0024 - lr: 2.5600e-08\n",
            "Epoch 98/100\n",
            "16/16 [==============================] - 0s 17ms/step - loss: 1.9765e-04 - val_loss: 0.0024 - lr: 5.1200e-09\n",
            "Epoch 99/100\n",
            "16/16 [==============================] - 0s 17ms/step - loss: 2.0263e-04 - val_loss: 0.0024 - lr: 5.1200e-09\n",
            "Epoch 100/100\n",
            "16/16 [==============================] - 0s 17ms/step - loss: 2.0685e-04 - val_loss: 0.0024 - lr: 5.1200e-09\n"
          ]
        }
      ]
    },
    {
      "cell_type": "code",
      "source": [
        "plt.figure(figsize=(15,7))\n",
        "plt.plot(history.history['loss'])\n",
        "plt.plot(history.history['val_loss'])\n",
        "plt.title(f'{ls} loss of Model')\n",
        "plt.ylabel('loss')\n",
        "plt.xlabel('epoch')\n",
        "plt.legend(['loss', 'validation loss'], loc='upper left')\n",
        "plt.show()"
      ],
      "metadata": {
        "colab": {
          "base_uri": "https://localhost:8080/",
          "height": 458
        },
        "id": "7TeC68TDn7zr",
        "outputId": "43a00e9e-91be-400b-b2c9-47e64073820c"
      },
      "execution_count": 23,
      "outputs": [
        {
          "output_type": "display_data",
          "data": {
            "text/plain": [
              "<Figure size 1080x504 with 1 Axes>"
            ],
            "image/png": "[encoded data removed]"
          },
          "metadata": {
            "needs_background": "light"
          }
        }
      ]
    },
    {
      "cell_type": "markdown",
      "source": [
        "## Making Predictions"
      ],
      "metadata": {
        "id": "eKSp89Rf-rab"
      }
    },
    {
      "cell_type": "code",
      "source": [
        "# Generate list of sequence of days for predictions\n",
        "datelist_future = pd.date_range(datelist_train[-1], periods=n_future, freq='1d').tolist()"
      ],
      "metadata": {
        "id": "UPBbRLqe-pnH"
      },
      "execution_count": 24,
      "outputs": []
    },
    {
      "cell_type": "code",
      "source": [
        "# Perform predictions\n",
        "predictions_future = model.predict(X_train[-n_future:])\n",
        "\n",
        "predictions_train = model.predict(X_train[n_past:])"
      ],
      "metadata": {
        "id": "nSW2bcQH-4y5"
      },
      "execution_count": 25,
      "outputs": []
    },
    {
      "cell_type": "code",
      "source": [
        "# Inverse the predictions to original measurements\n",
        "\n",
        "# ---> Special function: convert <datetime.date> to <Timestamp>\n",
        "def datetime_to_timestamp(x):\n",
        "    return datetime.strptime(x.strftime('%Y%m%d'), '%Y%m%d')\n",
        "\n",
        "\n",
        "y_pred_future = sc_predict.inverse_transform(predictions_future)\n",
        "y_pred_train = sc_predict.inverse_transform(predictions_train)\n",
        "\n",
        "PREDICTIONS_FUTURE = pd.DataFrame(y_pred_future, columns=['Open']).set_index(pd.Series(datelist_future))\n",
        "PREDICTION_TRAIN = pd.DataFrame(y_pred_train, columns=['Open']).set_index(pd.Series(datelist_train[2 * n_past + n_future -1:]))\n",
        "\n",
        "# Convert <datetime.date> to <Timestamp> for PREDCITION_TRAIN\n",
        "PREDICTION_TRAIN.index = PREDICTION_TRAIN.index.to_series().apply(datetime_to_timestamp)\n",
        "\n",
        "PREDICTION_TRAIN.head(3)"
      ],
      "metadata": {
        "id": "CAJ0t4dM-6mI",
        "outputId": "4d3460d8-2e4a-49d5-9b7a-4b78ed9486e8",
        "colab": {
          "base_uri": "https://localhost:8080/",
          "height": 143
        }
      },
      "execution_count": 26,
      "outputs": [
        {
          "output_type": "execute_result",
          "data": {
            "text/plain": [
              "                Open\n",
              "1998-03-17  7.554165\n",
              "1998-03-18  7.631249\n",
              "1998-03-19  7.607388"
            ],
            "text/html": [
              "\n",
              "  <div id=\"df-ff4152e8-37b7-42bc-b1d4-1d95a539389d\">\n",
              "    <div class=\"colab-df-container\">\n",
              "      <div>\n",
              "<style scoped>\n",
              "    .dataframe tbody tr th:only-of-type {\n",
              "        vertical-align: middle;\n",
              "    }\n",
              "\n",
              "    .dataframe tbody tr th {\n",
              "        vertical-align: top;\n",
              "    }\n",
              "\n",
              "    .dataframe thead th {\n",
              "        text-align: right;\n",
              "    }\n",
              "</style>\n",
              "<table border=\"1\" class=\"dataframe\">\n",
              "  <thead>\n",
              "    <tr style=\"text-align: right;\">\n",
              "      <th></th>\n",
              "      <th>Open</th>\n",
              "    </tr>\n",
              "  </thead>\n",
              "  <tbody>\n",
              "    <tr>\n",
              "      <th>1998-03-17</th>\n",
              "      <td>7.554165</td>\n",
              "    </tr>\n",
              "    <tr>\n",
              "      <th>1998-03-18</th>\n",
              "      <td>7.631249</td>\n",
              "    </tr>\n",
              "    <tr>\n",
              "      <th>1998-03-19</th>\n",
              "      <td>7.607388</td>\n",
              "    </tr>\n",
              "  </tbody>\n",
              "</table>\n",
              "</div>\n",
              "      <button class=\"colab-df-convert\" onclick=\"convertToInteractive('df-ff4152e8-37b7-42bc-b1d4-1d95a539389d')\"\n",
              "              title=\"Convert this dataframe to an interactive table.\"\n",
              "              style=\"display:none;\">\n",
              "        \n",
              "  <svg xmlns=\"http://www.w3.org/2000/svg\" height=\"24px\"viewBox=\"0 0 24 24\"\n",
              "       width=\"24px\">\n",
              "    <path d=\"M0 0h24v24H0V0z\" fill=\"none\"/>\n",
              "    <path d=\"M18.56 5.44l.94 2.06.94-2.06 2.06-.94-2.06-.94-.94-2.06-.94 2.06-2.06.94zm-11 1L8.5 8.5l.94-2.06 2.06-.94-2.06-.94L8.5 2.5l-.94 2.06-2.06.94zm10 10l.94 2.06.94-2.06 2.06-.94-2.06-.94-.94-2.06-.94 2.06-2.06.94z\"/><path d=\"M17.41 7.96l-1.37-1.37c-.4-.4-.92-.59-1.43-.59-.52 0-1.04.2-1.43.59L10.3 9.45l-7.72 7.72c-.78.78-.78 2.05 0 2.83L4 21.41c.39.39.9.59 1.41.59.51 0 1.02-.2 1.41-.59l7.78-7.78 2.81-2.81c.8-.78.8-2.07 0-2.86zM5.41 20L4 18.59l7.72-7.72 1.47 1.35L5.41 20z\"/>\n",
              "  </svg>\n",
              "      </button>\n",
              "      \n",
              "  <style>\n",
              "    .colab-df-container {\n",
              "      display:flex;\n",
              "      flex-wrap:wrap;\n",
              "      gap: 12px;\n",
              "    }\n",
              "\n",
              "    .colab-df-convert {\n",
              "      background-color: #E8F0FE;\n",
              "      border: none;\n",
              "      border-radius: 50%;\n",
              "      cursor: pointer;\n",
              "      display: none;\n",
              "      fill: #1967D2;\n",
              "      height: 32px;\n",
              "      padding: 0 0 0 0;\n",
              "      width: 32px;\n",
              "    }\n",
              "\n",
              "    .colab-df-convert:hover {\n",
              "      background-color: #E2EBFA;\n",
              "      box-shadow: 0px 1px 2px rgba(60, 64, 67, 0.3), 0px 1px 3px 1px rgba(60, 64, 67, 0.15);\n",
              "      fill: #174EA6;\n",
              "    }\n",
              "\n",
              "    [theme=dark] .colab-df-convert {\n",
              "      background-color: #3B4455;\n",
              "      fill: #D2E3FC;\n",
              "    }\n",
              "\n",
              "    [theme=dark] .colab-df-convert:hover {\n",
              "      background-color: #434B5C;\n",
              "      box-shadow: 0px 1px 3px 1px rgba(0, 0, 0, 0.15);\n",
              "      filter: drop-shadow(0px 1px 2px rgba(0, 0, 0, 0.3));\n",
              "      fill: #FFFFFF;\n",
              "    }\n",
              "  </style>\n",
              "\n",
              "      <script>\n",
              "        const buttonEl =\n",
              "          document.querySelector('#df-ff4152e8-37b7-42bc-b1d4-1d95a539389d button.colab-df-convert');\n",
              "        buttonEl.style.display =\n",
              "          google.colab.kernel.accessAllowed ? 'block' : 'none';\n",
              "\n",
              "        async function convertToInteractive(key) {\n",
              "          const element = document.querySelector('#df-ff4152e8-37b7-42bc-b1d4-1d95a539389d');\n",
              "          const dataTable =\n",
              "            await google.colab.kernel.invokeFunction('convertToInteractive',\n",
              "                                                     [key], {});\n",
              "          if (!dataTable) return;\n",
              "\n",
              "          const docLinkHtml = 'Like what you see? Visit the ' +\n",
              "            '<a target=\"_blank\" href=https://colab.research.google.com/notebooks/data_table.ipynb>data table notebook</a>'\n",
              "            + ' to learn more about interactive tables.';\n",
              "          element.innerHTML = '';\n",
              "          dataTable['output_type'] = 'display_data';\n",
              "          await google.colab.output.renderOutput(dataTable, element);\n",
              "          const docLink = document.createElement('div');\n",
              "          docLink.innerHTML = docLinkHtml;\n",
              "          element.appendChild(docLink);\n",
              "        }\n",
              "      </script>\n",
              "    </div>\n",
              "  </div>\n",
              "  "
            ]
          },
          "metadata": {},
          "execution_count": 26
        }
      ]
    },
    {
      "cell_type": "code",
      "source": [
        "# Parse training set timestamp for better visualization\n",
        "df_train.index = datelist_train\n",
        "df_train.index = pd.to_datetime(df_train.index)"
      ],
      "metadata": {
        "id": "0feDFRD2DqUx"
      },
      "execution_count": 27,
      "outputs": []
    },
    {
      "cell_type": "code",
      "source": [
        "# Set plot size \n",
        "from pylab import rcParams\n",
        "rcParams['figure.figsize'] = 14, 5\n",
        "\n",
        "# Plot parameters\n",
        "START_DATE_FOR_PLOTTING = '2012-06-01'\n",
        "\n",
        "plt.plot(PREDICTIONS_FUTURE.index, PREDICTIONS_FUTURE['Open'], color='r', label='Predicted Stock Price')\n",
        "plt.plot(PREDICTION_TRAIN.loc[START_DATE_FOR_PLOTTING:].index, PREDICTION_TRAIN.loc[START_DATE_FOR_PLOTTING:]['Open'], color='orange', label='Training predictions')\n",
        "plt.plot(df_train.loc[START_DATE_FOR_PLOTTING:].index, df_train.loc[START_DATE_FOR_PLOTTING:]['Open'], color='b', label='Actual Stock Price')\n",
        "\n",
        "plt.axvline(x = min(PREDICTIONS_FUTURE.index), color='green', linewidth=2, linestyle='--', alpha=0.5)\n",
        "\n",
        "plt.grid(which='major', color='#cccccc', alpha=0.5)\n",
        "\n",
        "plt.legend(shadow=True)\n",
        "plt.title(f'Predcitions and Acutal Stock Pricesf for {ticker}', fontsize=12)\n",
        "plt.xlabel('Timeline', fontsize=10)\n",
        "plt.ylabel('Stock Price Value', fontsize=10)\n",
        "plt.xticks(rotation=45, fontsize=8)\n",
        "plt.show()"
      ],
      "metadata": {
        "id": "45plAUCV--rY",
        "outputId": "3c88c8f1-5731-4e21-c6c9-0b40315b6758",
        "colab": {
          "base_uri": "https://localhost:8080/",
          "height": 360
        }
      },
      "execution_count": 28,
      "outputs": [
        {
          "output_type": "display_data",
          "data": {
            "text/plain": [
              "<Figure size 1008x360 with 1 Axes>"
            ],
            "image/png": "[encoded data removed]"
          },
          "metadata": {
            "needs_background": "light"
          }
        }
      ]
    },
    {
      "cell_type": "code",
      "source": [
        "PREDICTIONS_FUTURE.shape"
      ],
      "metadata": {
        "id": "iYmw-swCIXsc",
        "outputId": "de345faa-7fa8-42a5-9321-e3b9cdce938a",
        "colab": {
          "base_uri": "https://localhost:8080/"
        }
      },
      "execution_count": null,
      "outputs": [
        {
          "output_type": "execute_result",
          "data": {
            "text/plain": [
              "(1, 1)"
            ]
          },
          "metadata": {},
          "execution_count": 94
        }
      ]
    }
  ]
}